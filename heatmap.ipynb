{
  "nbformat": 4,
  "nbformat_minor": 0,
  "metadata": {
    "colab": {
      "provenance": []
    },
    "kernelspec": {
      "name": "python3",
      "display_name": "Python 3"
    },
    "language_info": {
      "name": "python"
    }
  },
  "cells": [
    {
      "cell_type": "code",
      "execution_count": 1,
      "metadata": {
        "colab": {
          "base_uri": "https://localhost:8080/"
        },
        "id": "l8eSSqRrqlj5",
        "outputId": "40651349-7604-4c7e-9ec3-fa0b4f361f3c"
      },
      "outputs": [
        {
          "output_type": "stream",
          "name": "stdout",
          "text": [
            "Collecting pymysql\n",
            "  Downloading PyMySQL-1.1.1-py3-none-any.whl.metadata (4.4 kB)\n",
            "Requirement already satisfied: sqlalchemy in /usr/local/lib/python3.11/dist-packages (2.0.41)\n",
            "Requirement already satisfied: greenlet>=1 in /usr/local/lib/python3.11/dist-packages (from sqlalchemy) (3.2.3)\n",
            "Requirement already satisfied: typing-extensions>=4.6.0 in /usr/local/lib/python3.11/dist-packages (from sqlalchemy) (4.14.0)\n",
            "Downloading PyMySQL-1.1.1-py3-none-any.whl (44 kB)\n",
            "\u001b[?25l   \u001b[90m━━━━━━━━━━━━━━━━━━━━━━━━━━━━━━━━━━━━━━━━\u001b[0m \u001b[32m0.0/45.0 kB\u001b[0m \u001b[31m?\u001b[0m eta \u001b[36m-:--:--\u001b[0m\r\u001b[2K   \u001b[90m━━━━━━━━━━━━━━━━━━━━━━━━━━━━━━━━━━━━━━━━\u001b[0m \u001b[32m45.0/45.0 kB\u001b[0m \u001b[31m3.0 MB/s\u001b[0m eta \u001b[36m0:00:00\u001b[0m\n",
            "\u001b[?25hInstalling collected packages: pymysql\n",
            "Successfully installed pymysql-1.1.1\n"
          ]
        }
      ],
      "source": [
        "!pip install pymysql sqlalchemy"
      ]
    },
    {
      "cell_type": "code",
      "source": [
        "sql_file_path = '/content/project/sql/sql.sql'"
      ],
      "metadata": {
        "id": "uuOYna3uxi-_"
      },
      "execution_count": 2,
      "outputs": []
    },
    {
      "cell_type": "code",
      "source": [
        "# with open(sql_file_path, 'r', encoding='utf-8') as f:\n",
        "#     sql_query = f.read()\n",
        "\n",
        "# print(sql_query[:500])"
      ],
      "metadata": {
        "id": "hFpF4J5Jxi7Y"
      },
      "execution_count": 3,
      "outputs": []
    },
    {
      "cell_type": "code",
      "source": [
        "import sqlite3\n",
        "import pandas as pd\n",
        "\n",
        "# sqlite 메모리 DB 생성\n",
        "conn = sqlite3.connect(':memory:')\n",
        "\n",
        "# sql 파일 읽기\n",
        "with open('/content/project/sql/sql.sql', 'r', encoding='utf-8') as f:\n",
        "    sql_script = f.read()\n",
        "\n",
        "# sql 스크립트 실행 (테이블 생성 + 데이터 삽입)\n",
        "conn.executescript(sql_script)\n",
        "\n",
        "# 쿼리 실행 후 데이터프레임으로 변환\n",
        "df = pd.read_sql_query('SELECT * FROM ev', conn)\n",
        "\n",
        "print(df.head())"
      ],
      "metadata": {
        "colab": {
          "base_uri": "https://localhost:8080/",
          "height": 221
        },
        "id": "KbtI3CuKyibw",
        "outputId": "672c52ac-f0dd-4fd2-f60b-18513fada904"
      },
      "execution_count": 4,
      "outputs": [
        {
          "output_type": "error",
          "ename": "FileNotFoundError",
          "evalue": "[Errno 2] No such file or directory: '/content/project/sql/sql.sql'",
          "traceback": [
            "\u001b[0;31m---------------------------------------------------------------------------\u001b[0m",
            "\u001b[0;31mFileNotFoundError\u001b[0m                         Traceback (most recent call last)",
            "\u001b[0;32m/tmp/ipython-input-4-1454531128.py\u001b[0m in \u001b[0;36m<cell line: 0>\u001b[0;34m()\u001b[0m\n\u001b[1;32m      6\u001b[0m \u001b[0;34m\u001b[0m\u001b[0m\n\u001b[1;32m      7\u001b[0m \u001b[0;31m# sql 파일 읽기\u001b[0m\u001b[0;34m\u001b[0m\u001b[0;34m\u001b[0m\u001b[0m\n\u001b[0;32m----> 8\u001b[0;31m \u001b[0;32mwith\u001b[0m \u001b[0mopen\u001b[0m\u001b[0;34m(\u001b[0m\u001b[0;34m'/content/project/sql/sql.sql'\u001b[0m\u001b[0;34m,\u001b[0m \u001b[0;34m'r'\u001b[0m\u001b[0;34m,\u001b[0m \u001b[0mencoding\u001b[0m\u001b[0;34m=\u001b[0m\u001b[0;34m'utf-8'\u001b[0m\u001b[0;34m)\u001b[0m \u001b[0;32mas\u001b[0m \u001b[0mf\u001b[0m\u001b[0;34m:\u001b[0m\u001b[0;34m\u001b[0m\u001b[0;34m\u001b[0m\u001b[0m\n\u001b[0m\u001b[1;32m      9\u001b[0m     \u001b[0msql_script\u001b[0m \u001b[0;34m=\u001b[0m \u001b[0mf\u001b[0m\u001b[0;34m.\u001b[0m\u001b[0mread\u001b[0m\u001b[0;34m(\u001b[0m\u001b[0;34m)\u001b[0m\u001b[0;34m\u001b[0m\u001b[0;34m\u001b[0m\u001b[0m\n\u001b[1;32m     10\u001b[0m \u001b[0;34m\u001b[0m\u001b[0m\n",
            "\u001b[0;31mFileNotFoundError\u001b[0m: [Errno 2] No such file or directory: '/content/project/sql/sql.sql'"
          ]
        }
      ]
    },
    {
      "cell_type": "code",
      "source": [
        "from sqlalchemy import create_engine\n",
        "import pandas as pd"
      ],
      "metadata": {
        "id": "CB2oY1MFrlBa"
      },
      "execution_count": null,
      "outputs": []
    },
    {
      "cell_type": "code",
      "source": [
        "from google.colab import drive\n",
        "drive.mount('/content/drive')"
      ],
      "metadata": {
        "colab": {
          "base_uri": "https://localhost:8080/"
        },
        "id": "XzviUpy3r1Ie",
        "outputId": "8d17245f-7a1b-4d45-a350-213f821e2c50"
      },
      "execution_count": 5,
      "outputs": [
        {
          "output_type": "stream",
          "name": "stdout",
          "text": [
            "Drive already mounted at /content/drive; to attempt to forcibly remount, call drive.mount(\"/content/drive\", force_remount=True).\n"
          ]
        }
      ]
    },
    {
      "cell_type": "code",
      "source": [
        "import pandas as pd\n",
        "\n",
        "# CSV 파일 경로\n",
        "csv_path = '/content/project/csv/registration status.csv'  # 실제 파일 경로로 변경하세요\n",
        "\n",
        "# CSV 불러오기, 인코딩이 UTF-8이 아닐 수도 있으니 인코딩 옵션 확인 필요\n",
        "df = pd.read_csv(csv_path, encoding='utf-8')\n",
        "\n",
        "# 데이터 확인\n",
        "print(df.head())\n"
      ],
      "metadata": {
        "id": "-SWu-QQU828U"
      },
      "execution_count": null,
      "outputs": []
    },
    {
      "cell_type": "code",
      "source": [
        "from folium.plugins import HeatMap\n",
        "\n",
        "# heat_data 생성\n",
        "heat_data = []\n",
        "for region in region_coords.keys():\n",
        "    value = int(row[region])  # numpy.int64 -> int 변환\n",
        "    lat, lon = region_coords[region]\n",
        "    heat_data.append([lat, lon, value])\n",
        "\n",
        "# 지도 생성\n",
        "m = folium.Map(location=[36.5, 127.5], zoom_start=7)\n",
        "\n",
        "# 히트맵 추가 (max_val 제거)\n",
        "HeatMap(\n",
        "    heat_data,\n",
        "    radius=45,       # 반경 키우기\n",
        "    blur=25,         # 흐림 정도 증가\n",
        "    min_opacity=0.4  # 최소 불투명도\n",
        ").add_to(m)\n",
        "\n",
        "\n",
        "m\n"
      ],
      "metadata": {
        "id": "7zsWYViF39tN"
      },
      "execution_count": null,
      "outputs": []
    },
    {
      "cell_type": "code",
      "source": [
        "print(map_df['값'].isna().sum())\n",
        "print(map_df.dtypes)\n"
      ],
      "metadata": {
        "id": "giUWKuoKINKg"
      },
      "execution_count": null,
      "outputs": []
    },
    {
      "cell_type": "code",
      "source": [
        "map_df['값'] = pd.to_numeric(map_df['값'], errors='coerce')\n",
        "map_df = map_df.dropna(subset=['값'])"
      ],
      "metadata": {
        "id": "nk9WCEzHIRCZ"
      },
      "execution_count": null,
      "outputs": []
    },
    {
      "cell_type": "code",
      "source": [
        "for f in geo_data['features']:\n",
        "    print(f['properties']['name'])  # 이 값과 map_df['지역명'] 이 일치해야 함"
      ],
      "metadata": {
        "id": "PeN-iLcVIT0o"
      },
      "execution_count": null,
      "outputs": []
    },
    {
      "cell_type": "code",
      "source": [
        "# 1. 매핑\n",
        "map_df['지역명'] = map_df['지역명'].map(지역명_매핑)\n",
        "\n",
        "# 2. 숫자화\n",
        "map_df['값'] = pd.to_numeric(map_df['값'], errors='coerce')\n",
        "map_df = map_df.dropna(subset=['값'])\n",
        "\n",
        "# 3. Choropleth 다시 실행\n"
      ],
      "metadata": {
        "id": "AtqtG3C0IWtC"
      },
      "execution_count": null,
      "outputs": []
    },
    {
      "cell_type": "code",
      "source": [
        "import pandas as pd\n",
        "import folium\n",
        "import json\n",
        "\n",
        "# 1. CSV 로드\n",
        "df = pd.read_csv('/content/project/csv/registration status.csv')\n",
        "\n",
        "# 2. 최신 월 데이터만 추출\n",
        "latest_row = df.iloc[-1]  # 가장 마지막 행 (최신 데이터)\n",
        "지역별_값 = latest_row.drop(labels=['년월', '합계'])  # '년월'과 '합계' 제거\n",
        "\n",
        "# 3. long 포맷으로 변환\n",
        "map_df = 지역별_값.reset_index()\n",
        "map_df.columns = ['지역명', '값']\n",
        "map_df['값'] = pd.to_numeric(map_df['값'], errors='coerce')\n",
        "\n",
        "# 4. GeoJSON 불러오기\n",
        "with open('/content/project/map/skorea_provinces_geo.json', encoding='utf-8') as f:\n",
        "    geo_data = json.load(f)\n",
        "\n",
        "# 5. 지도 생성\n",
        "m = folium.Map(location=[36.5, 127.5], zoom_start=7)\n",
        "\n",
        "# 6. Choropleth 시각화\n",
        "folium.Choropleth(\n",
        "    geo_data=geo_data,\n",
        "    data=map_df,\n",
        "    columns=['지역명', '값'],\n",
        "    key_on='feature.properties.name',\n",
        "    fill_color='YlOrRd',\n",
        "    fill_opacity=0.7,\n",
        "    line_opacity=0.2,\n",
        "    legend_name='지역별 수치',\n",
        "    nan_fill_color='lightgrey'\n",
        ").add_to(m)\n",
        "\n",
        "# 7. 출력\n",
        "m\n"
      ],
      "metadata": {
        "id": "fqcWsAc7HXqX"
      },
      "execution_count": null,
      "outputs": []
    },
    {
      "cell_type": "code",
      "source": [
        "import pandas as pd\n",
        "\n",
        "# 예시: 엑셀 또는 CSV에서 바로 읽어온 형태라고 가정\n",
        "data = {\n",
        "    '서울': [88212],\n",
        "    '부산': [48623],\n",
        "    '대구': [37027],\n",
        "    '인천': [62986],\n",
        "    '광주': [16641],\n",
        "    '대전': [22843],\n",
        "    '울산': [10786],\n",
        "    '세종': [5934],\n",
        "    '경기': [169781],\n",
        "    '강원': [22455],\n",
        "    '충북': [28860],\n",
        "    '충남': [34545],\n",
        "    '전북': [26902],\n",
        "    '전남': [35169],\n",
        "    '경북': [37957],\n",
        "    '경남': [52856],\n",
        "    '제주': [52529]\n",
        "}\n",
        "\n",
        "df = pd.DataFrame(data)\n",
        "\n",
        "# 행 1개짜리 wide 형태 → long 형태로 변환\n",
        "map_df = df.melt(var_name='지역명', value_name='값')\n",
        "print(map_df)\n"
      ],
      "metadata": {
        "id": "kUzq6FGoJMJ3"
      },
      "execution_count": null,
      "outputs": []
    },
    {
      "cell_type": "code",
      "source": [
        "지역명_매핑 = {\n",
        "    '서울': '서울특별시',\n",
        "    '부산': '부산광역시',\n",
        "    '대구': '대구광역시',\n",
        "    '인천': '인천광역시',\n",
        "    '광주': '광주광역시',\n",
        "    '대전': '대전광역시',\n",
        "    '울산': '울산광역시',\n",
        "    '세종': '세종특별자치시',\n",
        "    '경기': '경기도',\n",
        "    '강원': '강원도',\n",
        "    '충북': '충청북도',\n",
        "    '충남': '충청남도',\n",
        "    '전북': '전라북도',\n",
        "    '전남': '전라남도',\n",
        "    '경북': '경상북도',\n",
        "    '경남': '경상남도',\n",
        "    '제주': '제주특별자치도'\n",
        "}\n",
        "\n",
        "map_df['지역명'] = map_df['지역명'].map(지역명_매핑)\n"
      ],
      "metadata": {
        "id": "jJ03O8QVJNa_"
      },
      "execution_count": null,
      "outputs": []
    },
    {
      "cell_type": "code",
      "source": [
        "%%writefile app.py\n",
        "\n",
        "import folium\n",
        "import json\n",
        "\n",
        "# GeoJSON 파일 불러오기\n",
        "with open('/content/project/map/skorea_provinces_geo.json', encoding='utf-8') as f:\n",
        "    geo_data = json.load(f)\n",
        "\n",
        "# 데이터 예시 (map_df)\n",
        "# map_df에는 '지역명'과 '값' 컬럼이 있어야 합니다.\n",
        "\n",
        "# '지역명'을 key로 '값'을 value로 하는 딕셔너리 생성\n",
        "value_dict = map_df.set_index('지역명')['값'].to_dict()\n",
        "\n",
        "# geojson 각 feature에 'value' 속성 추가\n",
        "for feature in geo_data['features']:\n",
        "    region_name = feature['properties']['name']\n",
        "    feature['properties']['value'] = value_dict.get(region_name, '값 없음')\n",
        "\n",
        "# 지도 생성\n",
        "m = folium.Map(location=[36.5, 127.5], zoom_start=7)\n",
        "\n",
        "# Choropleth 추가\n",
        "folium.Choropleth(\n",
        "    geo_data=geo_data,\n",
        "    data=map_df,\n",
        "    columns=['지역명', '값'],\n",
        "    key_on='feature.properties.name',\n",
        "    fill_color='YlOrRd',\n",
        "    fill_opacity=0.7,\n",
        "    line_opacity=0.2,\n",
        "    legend_name='지역별 값'\n",
        ").add_to(m)\n",
        "\n",
        "# GeoJson 레이어에 툴팁 추가 (지역명과 값 같이 표시)\n",
        "folium.GeoJson(\n",
        "    geo_data,\n",
        "    style_function=lambda feature: {\n",
        "        'fillColor': 'transparent',\n",
        "        'color': 'transparent',\n",
        "        'weight': 0,\n",
        "    },\n",
        "    tooltip=folium.GeoJsonTooltip(\n",
        "        fields=['name', 'value'],\n",
        "        aliases=['', ''],\n",
        "        localize=True,\n",
        "        style=\"\"\"\n",
        "        font-size: 16px;\n",
        "        font-weight: bold;\n",
        "        background-color: white;\n",
        "        border: 1px solid black;\n",
        "        border-radius: 3px;\n",
        "        box-shadow: 3px;\n",
        "    \"\"\"\n",
        "    )\n",
        "\n",
        ").add_to(m)\n",
        "\n",
        "m"
      ],
      "metadata": {
        "id": "hm4wky_wJ9Ti"
      },
      "execution_count": null,
      "outputs": []
    },
    {
      "cell_type": "code",
      "source": [],
      "metadata": {
        "id": "kRzoP57huM3D"
      },
      "execution_count": null,
      "outputs": []
    },
    {
      "cell_type": "code",
      "source": [
        "# import json\n",
        "\n",
        "# with open('/content/project/map/map.geojson', encoding='utf-8') as f:\n",
        "#     geo_data = json.load(f)\n",
        "\n",
        "# # 첫 번째 피처의 속성 확인\n",
        "# print(geo_data['features'][0]['properties'])\n"
      ],
      "metadata": {
        "id": "QQusnH8i_-b6"
      },
      "execution_count": null,
      "outputs": []
    },
    {
      "cell_type": "code",
      "source": [
        "import pandas as pd\n",
        "import folium\n",
        "import json\n",
        "\n",
        "# 데이터 숫자형으로 변환 및 NaN 처리\n",
        "df['값'] = pd.to_numeric(df['값'], errors='coerce')\n",
        "df = df.dropna(subset=['값'])\n",
        "\n",
        "# Choropleth 생성\n",
        "m = folium.Map(location=[36.5, 127.5], zoom_start=7)\n",
        "\n",
        "folium.Choropleth(\n",
        "    geo_data=geo_data,\n",
        "    data=df,\n",
        "    columns=['지역명', '값'],\n",
        "    key_on='feature.properties.name',\n",
        "    fill_color='YlGnBu',\n",
        "    fill_opacity=0.7,\n",
        "    line_opacity=0.3,\n",
        "    legend_name='데이터 값'\n",
        ").add_to(m)\n",
        "\n",
        "m\n"
      ],
      "metadata": {
        "id": "tO5-M6RMCSTp"
      },
      "execution_count": null,
      "outputs": []
    },
    {
      "cell_type": "code",
      "source": [
        "print(df.dtypes)\n",
        "print(df['값'].apply(type).value_counts())"
      ],
      "metadata": {
        "id": "Mou16gV2C3kB"
      },
      "execution_count": null,
      "outputs": []
    },
    {
      "cell_type": "code",
      "source": [
        "df = df.dropna(subset=['값']).copy()"
      ],
      "metadata": {
        "id": "q6eRm4ToC5WZ"
      },
      "execution_count": null,
      "outputs": []
    },
    {
      "cell_type": "code",
      "source": [
        "print(df[df['값'].isna()])\n"
      ],
      "metadata": {
        "id": "KZTF0mBeC5Ub"
      },
      "execution_count": null,
      "outputs": []
    },
    {
      "cell_type": "code",
      "source": [
        "print(df['값'].head(10))\n",
        "print(df['지역명'].head(10))\n"
      ],
      "metadata": {
        "id": "yMIBxG5sC5Sd"
      },
      "execution_count": null,
      "outputs": []
    },
    {
      "cell_type": "code",
      "source": [
        "folium.Choropleth(\n",
        "    geo_data=geo_data,\n",
        "    data=df,\n",
        "    columns=['지역명', '값'],\n",
        "    key_on='feature.properties.name',\n",
        "    fill_color='YlGnBu',\n",
        "    fill_opacity=0.7,\n",
        "    line_opacity=0.3,\n",
        "    legend_name='데이터 값'\n",
        ").add_to(m)\n"
      ],
      "metadata": {
        "id": "wvJhBxVHC5QJ"
      },
      "execution_count": null,
      "outputs": []
    },
    {
      "cell_type": "code",
      "source": [
        "for i, v in enumerate(df['값']):\n",
        "    if not isinstance(v, (int, float)):\n",
        "        print(i, v, type(v))"
      ],
      "metadata": {
        "id": "ljQkoTsQC5Lx"
      },
      "execution_count": null,
      "outputs": []
    },
    {
      "cell_type": "code",
      "source": [
        "print(df.head())               # 데이터프레임 일부 출력\n",
        "print(df.dtypes)               # 컬럼별 타입 출력\n",
        "\n",
        "print(df['값'].apply(type).value_counts())  # '값' 컬럼에 어떤 타입들이 있는지\n",
        "\n",
        "# 숫자 변환 불가능한 값 출력\n",
        "for i, v in enumerate(df['값']):\n",
        "    if not (isinstance(v, (int, float)) and not isinstance(v, bool)):\n",
        "        print(f\"Non-numeric at index {i}: value={v}, type={type(v)}\")\n"
      ],
      "metadata": {
        "id": "2h90A5cLDaaL"
      },
      "execution_count": null,
      "outputs": []
    },
    {
      "cell_type": "code",
      "source": [
        "print(df['값'].dtype)\n",
        "print(df['값'].head())"
      ],
      "metadata": {
        "id": "9xmBKorS_-Xy"
      },
      "execution_count": null,
      "outputs": []
    },
    {
      "cell_type": "code",
      "source": [
        "df['값'] = pd.to_numeric(df['값'], errors='coerce')"
      ],
      "metadata": {
        "id": "s6p-Voj6_-VZ"
      },
      "execution_count": null,
      "outputs": []
    },
    {
      "cell_type": "code",
      "source": [
        "df = df.dropna(subset=['값'])\n",
        "# 또는\n",
        "df['값'] = df['값'].fillna(0)\n"
      ],
      "metadata": {
        "id": "xtLYCkiw_-TC"
      },
      "execution_count": null,
      "outputs": []
    },
    {
      "cell_type": "code",
      "source": [
        "print(df.columns.tolist())"
      ],
      "metadata": {
        "id": "HpTVQF9b39p2"
      },
      "execution_count": null,
      "outputs": []
    },
    {
      "cell_type": "code",
      "source": [],
      "metadata": {
        "id": "V2Ljb-kv39nH"
      },
      "execution_count": null,
      "outputs": []
    },
    {
      "cell_type": "code",
      "source": [],
      "metadata": {
        "id": "h2AoG7EG39aA"
      },
      "execution_count": null,
      "outputs": []
    },
    {
      "cell_type": "code",
      "source": [
        "import os\n",
        "\n",
        "# 드라이브 내 파일 구조 확인\n",
        "path = '/content/drive/MyDrive'\n",
        "for root, dirs, files in os.walk(path):\n",
        "    for file in files:\n",
        "        print(os.path.join(root, file))"
      ],
      "metadata": {
        "id": "T_9Y_kV1w7lc"
      },
      "execution_count": null,
      "outputs": []
    },
    {
      "cell_type": "code",
      "source": [
        "import streamlit as st\n",
        "\n",
        "# 가상의 데이터베이스 (실제 사용 시 이 부분을 데이터베이스 연결로 대체)\n",
        "database = [\n",
        "    \"사과는 빨간색 과일입니다.\",\n",
        "    \"바나나는 노란색 과일입니다.\",\n",
        "    \"오렌지는 주황색 과일입니다.\",\n",
        "    \"포도는 보라색 또는 녹색 과일입니다.\",\n",
        "    \"키위는 갈색 껍질에 녹색 속을 가진 과일입니다.\"\n",
        "]\n",
        "\n",
        "# 검색 함수\n",
        "def search(query):\n",
        "    return [item for item in database if query.lower() in item.lower()]\n",
        "\n",
        "# 제목\n",
        "st.title(\"과일 검색 앱\")\n",
        "\n",
        "# 검색어 입력창\n",
        "query = st.text_input(\"검색어를 입력하세요:\")\n",
        "\n",
        "# 검색 버튼\n",
        "if st.button(\"검색\"):\n",
        "    if query:\n",
        "        results = search(query)\n",
        "        if results:\n",
        "            st.subheader(\"검색 결과:\")\n",
        "            for result in results:\n",
        "                st.write(result)\n",
        "        else:\n",
        "            st.write(\"검색 결과가 없습니다.\")\n",
        "    else:\n",
        "        st.write(\"검색어를 입력해주세요.\")"
      ],
      "metadata": {
        "id": "YqOIDUPaUL5K"
      },
      "execution_count": null,
      "outputs": []
    },
    {
      "cell_type": "code",
      "source": [
        "!pip install streamlit"
      ],
      "metadata": {
        "id": "fMx5Xp19UMvk"
      },
      "execution_count": null,
      "outputs": []
    },
    {
      "cell_type": "code",
      "source": [
        "%%writefile my_app.py\n",
        "import streamlit as st\n",
        "\n",
        "st.title(\"간단한 스트림릿 테스트\")\n",
        "st.write(\"이건 Streamlit 앱입니다.\")\n"
      ],
      "metadata": {
        "id": "22w8OqJyUTfs"
      },
      "execution_count": null,
      "outputs": []
    },
    {
      "cell_type": "code",
      "source": [
        "!pip install streamlit pyngrok --quiet"
      ],
      "metadata": {
        "id": "81LRlWQQUqQi"
      },
      "execution_count": null,
      "outputs": []
    },
    {
      "cell_type": "code",
      "source": [
        "%%writefile app.py\n",
        "import streamlit as st\n",
        "\n",
        "database = [\n",
        "    \"사과는 빨간색 과일입니다.\",\n",
        "    \"바나나는 노란색 과일입니다.\",\n",
        "    \"오렌지는 주황색 과일입니다.\",\n",
        "    \"포도는 보라색 또는 녹색 과일입니다.\",\n",
        "    \"키위는 갈색 껍질에 녹색 속을 가진 과일입니다.\"\n",
        "]\n",
        "\n",
        "def search(query):\n",
        "    return [item for item in database if query.lower() in item.lower()]\n",
        "\n",
        "st.title(\"과일 검색 앱\")\n",
        "query = st.text_input(\"검색어를 입력하세요:\")\n",
        "\n",
        "if st.button(\"검색\"):\n",
        "    if query:\n",
        "        results = search(query)\n",
        "        if results:\n",
        "            st.subheader(\"검색 결과:\")\n",
        "            for result in results:\n",
        "                st.write(result)\n",
        "        else:\n",
        "            st.write(\"검색 결과가 없습니다.\")\n",
        "    else:\n",
        "        st.write(\"검색어를 입력해주세요.\")"
      ],
      "metadata": {
        "id": "86nPFDw0U_p_"
      },
      "execution_count": null,
      "outputs": []
    },
    {
      "cell_type": "code",
      "source": [
        "import streamlit as st\n",
        "\n",
        "# 가상의 데이터베이스 (실제 사용 시 이 부분을 데이터베이스 연결로 대체)\n",
        "database = [\n",
        "    \"사과는 빨간색 과일입니다.\",\n",
        "    \"바나나는 노란색 과일입니다.\",\n",
        "    \"오렌지는 주황색 과일입니다.\",\n",
        "    \"포도는 보라색 또는 녹색 과일입니다.\",\n",
        "    \"키위는 갈색 껍질에 녹색 속을 가진 과일입니다.\"\n",
        "]\n",
        "\n",
        "# 검색 함수\n",
        "def search(query):\n",
        "    return [item for item in database if query.lower() in item.lower()]\n",
        "\n",
        "# 제목\n",
        "st.title(\"과일 검색 앱\")\n",
        "\n",
        "# 검색어 입력창\n",
        "query = st.text_input(\"검색어를 입력하세요:\")\n",
        "\n",
        "# 검색 버튼\n",
        "if st.button(\"검색\"):\n",
        "    if query:\n",
        "        results = search(query)\n",
        "        if results:\n",
        "            st.subheader(\"검색 결과:\")\n",
        "            for result in results:\n",
        "                st.write(result)\n",
        "        else:\n",
        "            st.write(\"검색 결과가 없습니다.\")\n",
        "    else:\n",
        "        st.write(\"검색어를 입력해주세요.\")"
      ],
      "metadata": {
        "id": "9WGjCCc8VJu_"
      },
      "execution_count": null,
      "outputs": []
    },
    {
      "cell_type": "code",
      "source": [],
      "metadata": {
        "id": "XTvglYAjWsJU"
      },
      "execution_count": null,
      "outputs": []
    }
  ]
}